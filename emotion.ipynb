{
 "cells": [
  {
   "cell_type": "markdown",
   "metadata": {
    "id": "z3m6Q4dHApSw"
   },
   "source": [
    "# Facial Expression Recognition using Convolutional Neural Network"
   ]
  },
  {
   "cell_type": "markdown",
   "metadata": {
    "id": "VHl6O0TFqRcw"
   },
   "source": [
    "### Download Data"
   ]
  },
  {
   "cell_type": "markdown",
   "metadata": {
    "id": "o4r-IHzgHr4E"
   },
   "source": [
    "Here we use FER2013 dataset in [Challenges in Representation Learning: Facial Expression Recognition Challenge](https://www.kaggle.com/c/challenges-in-representation-learning-facial-expression-recognition-challenge/data) in Kaggle. Therefore, let's configure Kaggle API and download the training dataset."
   ]
  },
  {
   "cell_type": "code",
   "execution_count": null,
   "metadata": {
    "colab": {
     "base_uri": "https://localhost:8080/"
    },
    "id": "kBNRIz_xoXGk",
    "outputId": "561f00dc-e329-4f1a-d6cb-070871a48ad8"
   },
   "outputs": [
    {
     "name": "stdout",
     "output_type": "stream",
     "text": [
      "kaggle.json\n",
      "/content/data\n",
      "Downloading challenges-in-representation-learning-facial-expression-recognition-challenge.zip to /content/data\n",
      " 99% 282M/285M [00:14<00:00, 21.0MB/s]\n",
      "100% 285M/285M [00:14<00:00, 20.2MB/s]\n",
      "\n",
      "Files downloaded:\n",
      "challenges-in-representation-learning-facial-expression-recognition-challenge.zip\n",
      "Archive:  challenges-in-representation-learning-facial-expression-recognition-challenge.zip\n",
      "  inflating: example_submission.csv  \n",
      "  inflating: fer2013.tar.gz          \n",
      "  inflating: icml_face_data.csv      \n",
      "  inflating: test.csv                \n",
      "  inflating: train.csv               \n",
      "\n",
      "Files after unzipping:\n",
      "challenges-in-representation-learning-facial-expression-recognition-challenge.zip\n",
      "example_submission.csv\n",
      "fer2013.tar.gz\n",
      "icml_face_data.csv\n",
      "test.csv\n",
      "train.csv\n"
     ]
    }
   ],
   "source": [
    "import os\n",
    "\n",
    "# Configure kaggle\n",
    "os.chdir('/root/')\n",
    "!mkdir -p .kaggle\n",
    "os.chdir('/root/.kaggle')\n",
    "!wget --no-check-certificate 'https://docs.google.com/uc?export=download&id=1Y-o0TVcjehM8SZB3Nt8U3xkyeQu-Nse-' -O kaggle.json > /dev/null 2>&1\n",
    "!ls /root/.kaggle\n",
    "\n",
    "# Set permissions\n",
    "!chmod 600 /root/.kaggle/kaggle.json\n",
    "\n",
    "# Create data folder\n",
    "os.chdir('/content/')\n",
    "!rm -rf data\n",
    "!mkdir data\n",
    "os.chdir('data')\n",
    "!pwd\n",
    "\n",
    "# Download data\n",
    "!pip install -q kaggle\n",
    "!kaggle competitions download -c challenges-in-representation-learning-facial-expression-recognition-challenge\n",
    "\n",
    "# List the downloaded files to verify the dataset\n",
    "print(\"\\nFiles downloaded:\")\n",
    "!ls /content/data\n",
    "\n",
    "# Unzip the downloaded ZIP file\n",
    "!unzip -o challenges-in-representation-learning-facial-expression-recognition-challenge.zip\n",
    "\n",
    "# Verify unzipped files\n",
    "print(\"\\nFiles after unzipping:\")\n",
    "!ls /content/data\n"
   ]
  }
 ],
 "metadata": {
  "accelerator": "GPU",
  "colab": {
   "provenance": []
  },
  "kernelspec": {
   "display_name": "base",
   "language": "python",
   "name": "python3"
  },
  "language_info": {
   "name": "python",
   "version": "3.12.4"
  }
 },
 "nbformat": 4,
 "nbformat_minor": 0
}
