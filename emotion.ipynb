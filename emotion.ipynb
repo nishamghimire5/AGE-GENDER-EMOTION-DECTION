{
 "cells": [
  {
   "cell_type": "markdown",
   "metadata": {
    "id": "z3m6Q4dHApSw"
   },
   "source": [
    "# Facial Expression Recognition using Convolutional Neural Network"
   ]
  },
  {
   "cell_type": "markdown",
   "metadata": {
    "id": "VHl6O0TFqRcw"
   },
   "source": [
    "### Download Data"
   ]
  },
  {
   "cell_type": "markdown",
   "metadata": {
    "id": "o4r-IHzgHr4E"
   },
   "source": [
    "Here we use FER2013 dataset in [Challenges in Representation Learning: Facial Expression Recognition Challenge](https://www.kaggle.com/c/challenges-in-representation-learning-facial-expression-recognition-challenge/data) in Kaggle. Therefore, let's configure Kaggle API and download the training dataset."
   ]
  },
  {
   "cell_type": "code",
   "execution_count": null,
   "metadata": {
    "colab": {
     "base_uri": "https://localhost:8080/"
    },
    "id": "kBNRIz_xoXGk",
    "outputId": "561f00dc-e329-4f1a-d6cb-070871a48ad8"
   },
   "outputs": [
    {
     "name": "stdout",
     "output_type": "stream",
     "text": [
      "kaggle.json\n",
      "/content/data\n",
      "Downloading challenges-in-representation-learning-facial-expression-recognition-challenge.zip to /content/data\n",
      " 99% 282M/285M [00:14<00:00, 21.0MB/s]\n",
      "100% 285M/285M [00:14<00:00, 20.2MB/s]\n",
      "\n",
      "Files downloaded:\n",
      "challenges-in-representation-learning-facial-expression-recognition-challenge.zip\n",
      "Archive:  challenges-in-representation-learning-facial-expression-recognition-challenge.zip\n",
      "  inflating: example_submission.csv  \n",
      "  inflating: fer2013.tar.gz          \n",
      "  inflating: icml_face_data.csv      \n",
      "  inflating: test.csv                \n",
      "  inflating: train.csv               \n",
      "\n",
      "Files after unzipping:\n",
      "challenges-in-representation-learning-facial-expression-recognition-challenge.zip\n",
      "example_submission.csv\n",
      "fer2013.tar.gz\n",
      "icml_face_data.csv\n",
      "test.csv\n",
      "train.csv\n"
     ]
    }
   ],
   "source": [
    "import os\n",
    "\n",
    "# Configure kaggle\n",
    "os.chdir('/root/')\n",
    "!mkdir -p .kaggle\n",
    "os.chdir('/root/.kaggle')\n",
    "!wget --no-check-certificate 'https://docs.google.com/uc?export=download&id=1Y-o0TVcjehM8SZB3Nt8U3xkyeQu-Nse-' -O kaggle.json > /dev/null 2>&1\n",
    "!ls /root/.kaggle\n",
    "\n",
    "# Set permissions\n",
    "!chmod 600 /root/.kaggle/kaggle.json\n",
    "\n",
    "# Create data folder\n",
    "os.chdir('/content/')\n",
    "!rm -rf data\n",
    "!mkdir data\n",
    "os.chdir('data')\n",
    "!pwd\n",
    "\n",
    "# Download data\n",
    "!pip install -q kaggle\n",
    "!kaggle competitions download -c challenges-in-representation-learning-facial-expression-recognition-challenge\n",
    "\n",
    "# List the downloaded files to verify the dataset\n",
    "print(\"\\nFiles downloaded:\")\n",
    "!ls /content/data\n",
    "\n",
    "# Unzip the downloaded ZIP file\n",
    "!unzip -o challenges-in-representation-learning-facial-expression-recognition-challenge.zip\n",
    "\n",
    "# Verify unzipped files\n",
    "print(\"\\nFiles after unzipping:\")\n",
    "!ls /content/data\n"
   ]
  },
  {
   "cell_type": "markdown",
   "metadata": {},
   "source": [
    "### Load Data"
   ]
  },
  {
   "cell_type": "markdown",
   "metadata": {},
   "source": [
    "### Preprocess Data"
   ]
  },
  {
   "cell_type": "markdown",
   "metadata": {},
   "source": [
    "### Preprocess Data"
   ]
  },
  {
   "cell_type": "markdown",
   "metadata": {},
   "source": [
    "### Preprocess Data"
   ]
  },
  {
   "cell_type": "markdown",
   "metadata": {},
   "source": [
    "Next, we need to split the dataset into training set and test set. Here, we choose 20% of the dataset as test set, and the rest of the dataset as train set."
   ]
  },
  {
   "cell_type": "code",
   "execution_count": null,
   "metadata": {},
   "outputs": [
    {
     "name": "stdout",
     "output_type": "stream",
     "text": [
      "(22967, 48, 48, 1)\n",
      "(5742, 48, 48, 1)\n"
     ]
    }
   ],
   "source": [
    "from sklearn.model_selection import train_test_split\n",
    "\n",
    "# Split dataset into train set and test set\n",
    "x_train, x_test, y_train, y_test = train_test_split(x_train, y_train, test_size=0.2)\n",
    "x_train, x_test = x_train / 255.0, x_test / 255.0\n",
    "\n",
    "x_train = x_train.reshape(len(x_train), 48, 48, 1)\n",
    "x_test = x_test.reshape(len(x_test), 48, 48, 1)\n",
    "\n",
    "print(x_train.shape)\n",
    "print(x_test.shape)"
   ]
  },
  {
   "cell_type": "markdown",
   "metadata": {},
   "source": [
    "Next, we need to split the dataset into training set and test set. Here, we choose 20% of the dataset as test set, and the rest of the dataset as train set."
   ]
  },
  {
   "cell_type": "code",
   "execution_count": null,
   "metadata": {},
   "outputs": [
    {
     "name": "stdout",
     "output_type": "stream",
     "text": [
      "(22967, 48, 48, 1)\n",
      "(5742, 48, 48, 1)\n"
     ]
    }
   ],
   "source": [
    "from sklearn.model_selection import train_test_split\n",
    "\n",
    "# Split dataset into train set and test set\n",
    "x_train, x_test, y_train, y_test = train_test_split(x_train, y_train, test_size=0.2)\n",
    "x_train, x_test = x_train / 255.0, x_test / 255.0\n",
    "\n",
    "x_train = x_train.reshape(len(x_train), 48, 48, 1)\n",
    "x_test = x_test.reshape(len(x_test), 48, 48, 1)\n",
    "\n",
    "print(x_train.shape)\n",
    "print(x_test.shape)"
   ]
  },
  {
   "cell_type": "markdown",
   "metadata": {},
   "source": [
    "The image dataset downloaded from Kaggle is in \".csv\" file format. Therefore, we need to load the \"train.csv\" file, and convert it to numpy array. The training images and labels are saved in \"x_train\" and \"y_train\" respectively."
   ]
  },
  {
   "cell_type": "code",
   "execution_count": null,
   "metadata": {},
   "outputs": [
    {
     "name": "stdout",
     "output_type": "stream",
     "text": [
      "x_train shape: (28709, 48, 48)\n",
      "y_train shape: (28709,)\n"
     ]
    }
   ],
   "source": [
    "import csv\n",
    "import numpy\n",
    "\n",
    "train_images = []\n",
    "train_labels = []\n",
    "\n",
    "categories_count = {}\n",
    "\n",
    "with open('train.csv') as train:\n",
    "\n",
    "    # Read train.csv file\n",
    "    csv_reader = csv.reader(train)\n",
    "    next(csv_reader)  # Skip the header\n",
    "\n",
    "    for row in csv_reader:\n",
    "\n",
    "        # Append image\n",
    "        pixels_str = row[1]\n",
    "        pixels_list = [int(i) for i in pixels_str.split(' ')]\n",
    "        pixels_list = numpy.array(pixels_list, dtype='uint8')\n",
    "        image = pixels_list.reshape((48, 48))\n",
    "        train_images.append(image)\n",
    "\n",
    "        label_str = row[0]\n",
    "\n",
    "        # Calculate categories count\n",
    "        count = 0\n",
    "        if label_str in categories_count:\n",
    "            count = categories_count[label_str] + 1\n",
    "        categories_count[label_str] = count\n",
    "\n",
    "        # Append label\n",
    "        label = int(label_str)\n",
    "        train_labels.append(label)\n",
    "\n",
    "# Create numpy array of train images and labels\n",
    "x_train = numpy.array(train_images)\n",
    "y_train = numpy.array(train_labels)\n",
    "\n",
    "print('x_train shape: {0}'.format(x_train.shape))\n",
    "print('y_train shape: {0}'.format(y_train.shape))"
   ]
  },
  {
   "cell_type": "markdown",
   "metadata": {},
   "source": [
    "The image dataset provided by Kaggle contains 7 different facial expression categories (0=Angry, 1=Disgust, 2=Fear, 3=Happy, 4=Sad, 5=Surprise, 6=Neutral). The distogram of the facial expression categories is displayed as follows."
   ]
  },
  {
   "cell_type": "code",
   "execution_count": null,
   "metadata": {},
   "outputs": [
    {
     "data": {
      "image/png": "[encoded data removed]",
      "text/plain": [
       "<Figure size 640x480 with 1 Axes>"
      ]
     },
     "metadata": {},
     "output_type": "display_data"
    }
   ],
   "source": [
    "import matplotlib.pyplot as plt\n",
    "%matplotlib inline\n",
    "\n",
    "categories = ('Angry', 'Disgust', 'Fear', 'Happy', 'Sad', 'Surprise', 'Neutral')\n",
    "y_pos = numpy.arange(len(categories))\n",
    "\n",
    "counts = []\n",
    "for label in range(len(categories)):\n",
    "    label_str = str(label)\n",
    "    count = categories_count[label_str]\n",
    "    counts.append(count)\n",
    "    plt.text(label - 0.25, count + 15, str(count))\n",
    "\n",
    "# Draw histogram\n",
    "plt.bar(y_pos, counts, align='center', alpha=0.5)\n",
    "plt.xticks(y_pos, categories)\n",
    "plt.ylabel('Count')\n",
    "plt.title('FER2013 Dataset Categories')\n",
    "\n",
    "plt.show()"
   ]
  },
  {
   "cell_type": "markdown",
   "metadata": {},
   "source": [
    "Then, let's show one of the images in the dataset. Each image is grey-scale and contains 48 x 48 pixels."
   ]
  },
  {
   "cell_type": "code",
   "execution_count": null,
   "metadata": {},
   "outputs": [
    {
     "name": "stdout",
     "output_type": "stream",
     "text": [
      "Label is: 0\n"
     ]
    },
    {
     "data": {
      "text/plain": [
       "<matplotlib.image.AxesImage at 0x7ded117a7b50>"
      ]
     },
     "metadata": {},
     "output_type": "display_data"
    },
    {
     "data": {
      "image/png": "[encoded data removed]",
      "text/plain": [
       "<Figure size 640x480 with 1 Axes>"
      ]
     },
     "metadata": {},
     "output_type": "display_data"
    }
   ],
   "source": [
    "image = x_train[0]\n",
    "label = y_train[0]\n",
    "\n",
    "print('Label is: ' + str(label))\n",
    "plt.imshow(image, cmap='gray')"
   ]
  },
  {
   "cell_type": "markdown",
   "metadata": {},
   "source": [
    "### Preprocess Data"
   ]
  },
  {
   "cell_type": "markdown",
   "metadata": {},
   "source": [
    "Next, we need to split the dataset into training set and test set. Here, we choose 20% of the dataset as test set, and the rest of the dataset as train set."
   ]
  },
  {
   "cell_type": "code",
   "execution_count": null,
   "metadata": {},
   "outputs": [
    {
     "name": "stdout",
     "output_type": "stream",
     "text": [
      "(22967, 48, 48, 1)\n",
      "(5742, 48, 48, 1)\n"
     ]
    }
   ],
   "source": [
    "from sklearn.model_selection import train_test_split\n",
    "\n",
    "# Split dataset into train set and test set\n",
    "x_train, x_test, y_train, y_test = train_test_split(x_train, y_train, test_size=0.2)\n",
    "x_train, x_test = x_train / 255.0, x_test / 255.0\n",
    "\n",
    "x_train = x_train.reshape(len(x_train), 48, 48, 1)\n",
    "x_test = x_test.reshape(len(x_test), 48, 48, 1)\n",
    "\n",
    "print(x_train.shape)\n",
    "print(x_test.shape)"
   ]
  },
  {
   "cell_type": "markdown",
   "metadata": {},
   "source": [
    "### Train Model"
   ]
  },
  {
   "cell_type": "markdown",
   "metadata": {},
   "source": [
    "Next, we need to train the model with the image dataset. Here we use Tensorlow as backend to train the model. Therefore, we need to import all the required packages before the training process."
   ]
  },
  {
   "cell_type": "code",
   "execution_count": null,
   "metadata": {},
   "outputs": [
    {
     "name": "stdout",
     "output_type": "stream",
     "text": [
      "Colab only includes TensorFlow 2.x; %tensorflow_version has no effect.\n",
      "Tensorflow version: 2.17.1\n"
     ]
    }
   ],
   "source": [
    "%tensorflow_version 2.x\n",
    "import tensorflow as tf\n",
    "\n",
    "print('Tensorflow version: {}'.format(tf.__version__))\n",
    "\n",
    "from tensorflow.keras.models import Sequential\n",
    "from tensorflow.keras.layers import Conv2D, BatchNormalization, MaxPool2D, Dropout, Flatten, Dense\n",
    "\n",
    "from tensorflow.keras.optimizers import Adam\n",
    "from tensorflow.keras.callbacks import EarlyStopping, ReduceLROnPlateau\n",
    "\n",
    "from tensorflow.keras import Model, Input\n",
    "\n",
    "from tensorflow.keras.preprocessing.image import ImageDataGenerator"
   ]
  },
  {
   "cell_type": "markdown",
   "metadata": {},
   "source": [
    "By referring to VGGNet architecture, we have designed the computer vision model with several stacks of layers. The model will have the following components:\n",
    "- Convolutional layers: These layers are the building blocks of our architecture, which learns the image feature by computing the dot product between the weights and the small region on the image. Similar to VGGNet architecture, all the convolutional layers are designed with 3 x 3 kernal size, and several filters.\n",
    "- Activation functions: The activation functions are those functions which are applied to the outputs of the layers in the network. Specifically, we use ReLU (Rectified Linear Unit) activation function to increase the non-linearity of the network. Besides, a Softmax function will be used to compute the probability of each category.\n",
    "- Pooling layers: These layers will down-sample the image to reduce the spatial data and extract features. In our model, we will use Max Pooling with A 3 x 3 pooling size and a 2 x 2 stride.\n",
    "- Dense layers: The dense layers are stacked as the fully connected layers of the network, which take in the feature data from the previous convolutional layers and perform decision making.\n",
    "- Dropout layers: The dropout layers are used to prevent over-fitting when training the model.\n",
    "- Batch normalization: This technique can be used to speed up learning by normalizing the output of the previous activation layer.\n",
    "\n",
    "The diagram of the model is displayed as follows."
   ]
  },
  {
   "attachments": {
    "image.png": {
     "image/png": "[encoded data removed]"
    }
   },
   "cell_type": "markdown",
   "metadata": {},
   "source": [
    "![image.png](attachment:image.png)"
   ]
  },
  {
   "cell_type": "markdown",
   "metadata": {},
   "source": [
    "Our model contains 5 stacks of layers. In each of the first 4 stacks of layers, there are 2 convolutional layer followed by 1 pooling layer. Besides, we use batch normalization to speed up training and dropout to prevent over-fitting. Then we have one stack of 3 fully-connected layers, followed by a Softmax activation function, which generates the probability of the facial expression categories. Finally, we compile our model using Adam optimizer with a certain learning rate. Considering that we are dealing with classification issue, we will use `sparse_categorical_crossentropy` as the loss function."
   ]
  }
 ],
 "metadata": {
  "accelerator": "GPU",
  "colab": {
   "provenance": []
  },
  "kernelspec": {
   "display_name": "base",
   "language": "python",
   "name": "python3"
  },
  "language_info": {
   "name": "python",
   "version": "3.12.4"
  }
 },
 "nbformat": 4,
 "nbformat_minor": 0
}
